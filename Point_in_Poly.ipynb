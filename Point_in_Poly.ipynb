{
 "cells": [
  {
   "cell_type": "code",
   "execution_count": 1,
   "metadata": {
    "scrolled": true
   },
   "outputs": [
    {
     "name": "stdout",
     "output_type": "stream",
     "text": [
      "OUT Polygon\n"
     ]
    },
    {
     "data": {
      "image/png": "[encoded data removed]",
      "text/plain": [
       "<matplotlib.figure.Figure at 0x10643f780>"
      ]
     },
     "metadata": {},
     "output_type": "display_data"
    }
   ],
   "source": [
    "from Point_Polygon import Line, Point, Shape, plot_Shape\n",
    "\n",
    "P1 = Point(15,10)\n",
    "P2 = Point(12,3)\n",
    "P3 = Point(6,5)\n",
    "P4 = Point(3,3)\n",
    "P5 = Point(1,9)\n",
    "\n",
    "L1 = Line(P1,P2)\n",
    "L2 = Line(P2,P3)\n",
    "L3 = Line(P3,P4)\n",
    "L4 = Line(P4,P5)\n",
    "L5 = Line(P5,P1)\n",
    "\n",
    "Point_List = [P1,P2,P3,P4,P5]\n",
    "Line_List = [L1,L2,L3,L4,L5]\n",
    "\n",
    "S1 = Shape(Line_List,Point_List)\n",
    "\n",
    "a1 = Point(2,7)\n",
    "a2 = Point(1,1)\n",
    "a3 = Point(5,4)\n",
    "a4 = Point(1,1)\n",
    "test_points = [a1,a2,a3]\n",
    "\n",
    "def intersect(line,P):\n",
    "    \n",
    "    if line.p1.y < line.p2.y: \n",
    "        A = line.p1\n",
    "        B = line.p2\n",
    "    else:\n",
    "        A = line.p2\n",
    "        B = line.p1\n",
    "        \n",
    "    if P.y > B.y : #1\n",
    "        return 0 \n",
    "    \n",
    "    if P.y < A.y: #2\n",
    "        return 0\n",
    "    \n",
    "    if P.x > max(A.x,B.x): #3\n",
    "        return 0 \n",
    "    \n",
    "    if P.x < min(A.x,B.x): #4\n",
    "        return 1\n",
    "    \n",
    "    A_B_slope = float(B.y-A.y)/float(B.x-A.x)\n",
    "    A_P_slope = float(P.y-A.y)/float(P.x-A.x)\n",
    "    \n",
    "    if (A_B_slope) >= (A_P_slope):\n",
    "        return 0\n",
    "    else :\n",
    "        return 1\n",
    "\n",
    "def point_in_polygon(Shape,point):\n",
    "    int_count = 0\n",
    "    for line in Shape.l:\n",
    "        int_count = int_count + intersect(line,point)\n",
    "    if int_count%2:\n",
    "        print(\"IN Polygon\")\n",
    "    else:\n",
    "        print(\"OUT Polygon\")\n",
    "\n",
    "point_in_polygon(S1,a4)\n",
    "plot_Shape(S1,[a4])\n"
   ]
  },
  {
   "cell_type": "code",
   "execution_count": null,
   "metadata": {
    "collapsed": true,
    "jupyter": {
     "outputs_hidden": true
    }
   },
   "outputs": [],
   "source": []
  },
  {
   "cell_type": "code",
   "execution_count": null,
   "metadata": {
    "collapsed": true,
    "jupyter": {
     "outputs_hidden": true
    }
   },
   "outputs": [],
   "source": []
  }
 ],
 "metadata": {
  "kernelspec": {
   "display_name": "Python 3",
   "language": "python",
   "name": "python3"
  },
  "language_info": {
   "codemirror_mode": {
    "name": "ipython",
    "version": 3
   },
   "file_extension": ".py",
   "mimetype": "text/x-python",
   "name": "python",
   "nbconvert_exporter": "python",
   "pygments_lexer": "ipython3",
   "version": "3.6.10"
  }
 },
 "nbformat": 4,
 "nbformat_minor": 4
}
